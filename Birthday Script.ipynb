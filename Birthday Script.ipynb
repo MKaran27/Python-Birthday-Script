{
 "cells": [
  {
   "cell_type": "code",
   "execution_count": 3,
   "id": "a730d007",
   "metadata": {},
   "outputs": [
    {
     "name": "stdout",
     "output_type": "stream",
     "text": [
      "              Name             Birthday              message  Year  \\\n",
      "0  Aditya Chouksey  2022-02-11 00:00:00  Happy Birthday Gopu  2021   \n",
      "\n",
      "                       Email  mobile number  Unnamed: 6  \n",
      "0  adityachouksey7@gmail.com     4699228954         NaN  \n"
     ]
    },
    {
     "ename": "AttributeError",
     "evalue": "'str' object has no attribute 'strftime'",
     "output_type": "error",
     "traceback": [
      "\u001b[1;31m---------------------------------------------------------------------------\u001b[0m",
      "\u001b[1;31mAttributeError\u001b[0m                            Traceback (most recent call last)",
      "\u001b[1;32m<ipython-input-3-bec125c6d0ff>\u001b[0m in \u001b[0;36m<module>\u001b[1;34m\u001b[0m\n\u001b[0;32m     31\u001b[0m     \u001b[1;32mfor\u001b[0m \u001b[0mindex\u001b[0m\u001b[1;33m,\u001b[0m \u001b[0mitem\u001b[0m \u001b[1;32min\u001b[0m \u001b[0mdf\u001b[0m\u001b[1;33m.\u001b[0m\u001b[0miterrows\u001b[0m\u001b[1;33m(\u001b[0m\u001b[1;33m)\u001b[0m\u001b[1;33m:\u001b[0m\u001b[1;33m\u001b[0m\u001b[1;33m\u001b[0m\u001b[0m\n\u001b[0;32m     32\u001b[0m         \u001b[1;31m#print(index,item['birthday'])\u001b[0m\u001b[1;33m\u001b[0m\u001b[1;33m\u001b[0m\u001b[1;33m\u001b[0m\u001b[0m\n\u001b[1;32m---> 33\u001b[1;33m         \u001b[0mbday\u001b[0m \u001b[1;33m=\u001b[0m \u001b[0mitem\u001b[0m\u001b[1;33m[\u001b[0m\u001b[1;34m'Birthday'\u001b[0m\u001b[1;33m]\u001b[0m\u001b[1;33m.\u001b[0m\u001b[0mstrftime\u001b[0m\u001b[1;33m(\u001b[0m\u001b[1;34m\"%d\"\u001b[0m\u001b[1;33m)\u001b[0m\u001b[1;33m\u001b[0m\u001b[1;33m\u001b[0m\u001b[0m\n\u001b[0m\u001b[0;32m     34\u001b[0m         \u001b[1;31m#print(type(bday))\u001b[0m\u001b[1;33m\u001b[0m\u001b[1;33m\u001b[0m\u001b[1;33m\u001b[0m\u001b[0m\n\u001b[0;32m     35\u001b[0m         \u001b[1;32mif\u001b[0m\u001b[1;33m(\u001b[0m\u001b[0mbday\u001b[0m \u001b[1;33m==\u001b[0m \u001b[0mtoday\u001b[0m\u001b[1;33m)\u001b[0m \u001b[1;32mand\u001b[0m \u001b[0myearnow\u001b[0m \u001b[1;32mnot\u001b[0m \u001b[1;32min\u001b[0m \u001b[0mstr\u001b[0m\u001b[1;33m(\u001b[0m\u001b[0mitem\u001b[0m\u001b[1;33m[\u001b[0m\u001b[1;34m\"Year\"\u001b[0m\u001b[1;33m]\u001b[0m\u001b[1;33m)\u001b[0m\u001b[1;33m:\u001b[0m\u001b[1;33m\u001b[0m\u001b[1;33m\u001b[0m\u001b[0m\n",
      "\u001b[1;31mAttributeError\u001b[0m: 'str' object has no attribute 'strftime'"
     ]
    }
   ],
   "source": [
    "import pandas as pd\n",
    "import datetime\n",
    "import smtplib\n",
    "from email.message import EmailMessage\n",
    "import os\n",
    "\n",
    "def sendEmail(to, sub, msg):\n",
    "    print(f\"email to {to} \\nsend with subject: {sub}\\n message: {msg}\")\n",
    "    email = EmailMessage()\n",
    "    email['from'] = 'Karan Malviya'\n",
    "    email['to'] = f\"{to}\"\n",
    "    email['subject'] = f'{sub}'\n",
    "\n",
    "    email.set_content(f'{msg}')\n",
    "\n",
    "    with smtplib.SMTP(host='smtp.gmail.com', port=587) as smtp:\n",
    "        smtp.ehlo()\n",
    "        smtp.starttls()\n",
    "        smtp.login('Email','password')\n",
    "        smtp.send_message(email)\n",
    "        print(\"Email send\")\n",
    "    pass\n",
    "if __name__ == \"__main__\":\n",
    "    df = pd.read_excel(\"data.xlsx\")\n",
    "    print(df)\n",
    "    today = datetime.datetime.now().strftime(\"%d-%m\")\n",
    "    #print(type(today))\n",
    "    update = []\n",
    "    yearnow =  datetime.datetime.now().strftime(\"%Y\")\n",
    "    #print(yearnow)\n",
    "    for index, item in df.iterrows():\n",
    "        #print(index,item['birthday'])\n",
    "        bday = item['Birthday'].strftime(\"%d-%m\")\n",
    "        #print(type(bday))\n",
    "        if(bday == today) and yearnow not in str(item[\"Year\"]): \n",
    "            sendEmail(item['Email'] ,\"Happy BIrthday \"+item[\"Name\"], item['message'])\n",
    "            update.append(index)\n",
    "    for i in update:\n",
    "        yr = df.loc[i, 'Year']\n",
    "        #print(yr)\n",
    "        df.loc[i,'Year'] = f\"{yr}, {yearnow}\"\n",
    "        #print((df.loc[i, 'Year'])\n",
    "    #print(df)\n",
    "    df.to_excel(\"data.xlsx\", index=False)"
   ]
  }
 ],
 "metadata": {
  "kernelspec": {
   "display_name": "Python 3",
   "language": "python",
   "name": "python3"
  },
  "language_info": {
   "codemirror_mode": {
    "name": "ipython",
    "version": 3
   },
   "file_extension": ".py",
   "mimetype": "text/x-python",
   "name": "python",
   "nbconvert_exporter": "python",
   "pygments_lexer": "ipython3",
   "version": "3.8.8"
  }
 },
 "nbformat": 4,
 "nbformat_minor": 5
}
